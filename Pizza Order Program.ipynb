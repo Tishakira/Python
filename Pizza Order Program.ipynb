{
 "cells": [
  {
   "cell_type": "markdown",
   "id": "f33e2706-792e-4237-a970-ff96e8801720",
   "metadata": {},
   "source": [
    "Congratulations, you've got a job at Python Pizza. Your first job is to build an automatic pizza order program. Based on a user's order, work out their final bill.\n",
    "\n",
    " ``` Small Pizza: $15 ``` ``` \n",
    "\n",
    "``` Medium Pizza: $20 ``` \n",
    "\n",
    "``` Large Pizza: $25 ``` \n",
    "\n",
    "If they want to add pepperoni :\n",
    "\n",
    "``` Pepperoni for Small Pizza: +$2 ``` \n",
    "\n",
    "``` Pepperoni for Medium or Large Pizza: +$3 ```\n",
    "\n",
    "If they want cheese :\n",
    "\n",
    " ``` Extra cheese for any size pizza: + $1 ```\n",
    "\n",
    " Instructions\n",
    "\n",
    "Open a new file in your Python development environment or IDE.\n",
    "Begin by typing the line 'Welcome to Python Pizza Deliveries' which will display a welcome message when the code is run.\n",
    "Add a line that prompts the user for the size of the pizza they want using the input() function and stores the user's input in a variable named 'size'.\n",
    "Add a line that prompts the user if they want pepperoni on their pizza using the input() function and stores the user's input in a variable named 'add_pepperoni'.\n",
    "Add a line that prompts the user if they want extra cheese on their pizza using the input() function and stores the user's input in a variable named 'extra_cheese'.\n",
    "Check your code for any syntax errors or mistakes.\n",
    "Run the code and test it by providing inputs for size, pepperoni, and extra cheese."
   ]
  },
  {
   "cell_type": "code",
   "execution_count": 1,
   "id": "c9806abd-b89c-4550-90d7-17d26498a07b",
   "metadata": {},
   "outputs": [
    {
     "name": "stdout",
     "output_type": "stream",
     "text": [
      "Welcome to Python Pizza Deliveries!\n"
     ]
    },
    {
     "name": "stdin",
     "output_type": "stream",
     "text": [
      "What size pizza do you want? S, M, or L:\n",
      " m\n",
      "Do you want pepperoni? Y or N: \n",
      " y\n",
      "Do you want extra cheese? Y or N: \n",
      " y\n"
     ]
    },
    {
     "name": "stdout",
     "output_type": "stream",
     "text": [
      "Your final bill is: $24\n"
     ]
    }
   ],
   "source": [
    "\n",
    "print(\"Welcome to Python Pizza Deliveries!\")\n",
    "\n",
    "size = input(\"What size pizza do you want? S, M, or L:\\n\").upper()\n",
    "add_pepperoni = input(\"Do you want pepperoni? Y or N: \\n\").upper()\n",
    "extra_cheese = input(\"Do you want extra cheese? Y or N: \\n\").upper()\n",
    "bill = 0\n",
    "\n",
    "if size == \"S\":  \n",
    "    bill = 15\n",
    "elif size == \"M\": \n",
    "    bill = 20\n",
    "elif size == \"L\":  \n",
    "    bill = 25\n",
    "else:\n",
    "    print(\"You have entered the wrong input.\")\n",
    "\n",
    "if add_pepperoni == \"Y\":\n",
    "    if size == \"S\":\n",
    "        bill += 2  \n",
    "    elif size in [\"M\", \"L\"]:\n",
    "        bill += 3 \n",
    "\n",
    "if extra_cheese == \"Y\":\n",
    "    bill += 1  \n",
    "\n",
    "\n",
    "print(f\"Your final bill is: ${bill}\")\n"
   ]
  },
  {
   "cell_type": "code",
   "execution_count": null,
   "id": "0ffabc00-ead7-4c0a-8c49-c19fea75117b",
   "metadata": {},
   "outputs": [],
   "source": []
  }
 ],
 "metadata": {
  "kernelspec": {
   "display_name": "Python 3 (ipykernel)",
   "language": "python",
   "name": "python3"
  },
  "language_info": {
   "codemirror_mode": {
    "name": "ipython",
    "version": 3
   },
   "file_extension": ".py",
   "mimetype": "text/x-python",
   "name": "python",
   "nbconvert_exporter": "python",
   "pygments_lexer": "ipython3",
   "version": "3.12.7"
  }
 },
 "nbformat": 4,
 "nbformat_minor": 5
}
