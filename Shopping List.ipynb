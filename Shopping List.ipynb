{
 "cells": [
  {
   "cell_type": "markdown",
   "id": "26c4fee5-a94c-4fa2-a0f0-fa74a5849578",
   "metadata": {},
   "source": [
    "Create a program that allows the user to manage their shopping list. The user should be able to add items to the list, remove items, and view the current list of items.\n",
    "\n",
    "\n",
    "Instructions\n",
    "\n",
    "Statement:\n",
    "\n",
    "Create a list to store the shopping items\n",
    "Use a while loop to create a menu of options for the user to add, remove, or view items from the list\n",
    "Use a for loop to iterate through the list of items and display them to the user\n",
    "Use the range() function to limit the number of items that can be added to the list\n",
    "Use the list, tuple, set, and dictionary data structures to store and manipulate the shopping items\n",
    "Instructions:\n",
    "\n",
    "Create a list named 'shopping_list' to store the items.\n",
    "Use a while loop to create a menu of options for the user to add, remove, or view items from the list.\n",
    "Use the input() function to prompt the user to make a selection from the menu.\n",
    "Use an if-elif-else block to determine the user's selection and perform the corresponding action.\n",
    "If the user selects 'add', use the input() function to prompt the user to enter an item to add to the list. Use the range() function to limit the number of items that can be added to the list.\n",
    "If the user selects 'remove', use the input() function to prompt the user to enter an item to remove from the list.\n",
    "If the user selects 'view', use a for loop to iterate through the list of items and display them to the user.\n",
    "Use the list, tuple, set, and dictionary data structures to store and manipulate the shopping items."
   ]
  },
  {
   "cell_type": "code",
   "execution_count": 4,
   "id": "cae58d92-0bd1-4b3a-8778-d859a202de9b",
   "metadata": {},
   "outputs": [],
   "source": [
    "def my_shop():\n",
    "    shopping_list =[]\n",
    "    while True:\n",
    "        print('Shopping Menu:')\n",
    "        print('1. add to shopping list')\n",
    "        print('2. remove item from shopping list')\n",
    "        print('3. view items in shopping list')\n",
    "        print('4. Quit')\n",
    "        my_choice = int(input('Enter your choice here(1-4):\\n'))\n",
    "        if my_choice == 1:\n",
    "            if len(shopping_list) < 10:\n",
    "                item = input('Enter item here:\\n')\n",
    "                shopping_list.append(item)\n",
    "                print(f'{item} has been added to shopping list')\n",
    "            else:\n",
    "                print('Your shopping list is full, remove an item ')\n",
    "               \n",
    "        elif my_choice == 2:\n",
    "            item= input('Enter item here:\\n')\n",
    "            if item in shopping_list:\n",
    "                shopping_list.remove(item)\n",
    "                print(f'{item} has been deleted from shopping list')\n",
    "            else:\n",
    "                print(f'{item} not in shopping list')\n",
    "\n",
    "        elif my_choice == 3:\n",
    "            for i, item in enumerate(shopping_list, start=1):\n",
    "                print(f'{i}.{item}')\n",
    "\n",
    "        elif my_choice == 4:\n",
    "            print('Goodbye')\n",
    "            break\n",
    "        else:\n",
    "            print('Invalid input')\n",
    "        \n",
    "\n",
    "                \n",
    "\n",
    "        \n"
   ]
  },
  {
   "cell_type": "code",
   "execution_count": 3,
   "id": "c39eeb37-1514-4982-8470-ff39206a42fd",
   "metadata": {},
   "outputs": [
    {
     "name": "stdout",
     "output_type": "stream",
     "text": [
      "Shopping Menu:\n",
      "1. add to shopping list\n",
      "2. remove item from shopping list\n",
      "3. view items in shopping list\n",
      "4. Quit\n"
     ]
    },
    {
     "name": "stdin",
     "output_type": "stream",
     "text": [
      "Enter your choice here(1-4):\n",
      " 4\n"
     ]
    },
    {
     "name": "stdout",
     "output_type": "stream",
     "text": [
      "Goodbye\n"
     ]
    }
   ],
   "source": [
    "my_shop()"
   ]
  },
  {
   "cell_type": "code",
   "execution_count": null,
   "id": "04fe0b12-420e-4939-a585-cca31b3b6d89",
   "metadata": {},
   "outputs": [],
   "source": []
  }
 ],
 "metadata": {
  "kernelspec": {
   "display_name": "Python 3 (ipykernel)",
   "language": "python",
   "name": "python3"
  },
  "language_info": {
   "codemirror_mode": {
    "name": "ipython",
    "version": 3
   },
   "file_extension": ".py",
   "mimetype": "text/x-python",
   "name": "python",
   "nbconvert_exporter": "python",
   "pygments_lexer": "ipython3",
   "version": "3.12.7"
  }
 },
 "nbformat": 4,
 "nbformat_minor": 5
}
