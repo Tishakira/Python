{
 "cells": [
  {
   "cell_type": "markdown",
   "id": "fc6a0db4-26b8-45fa-b48d-b1190fdafb77",
   "metadata": {},
   "source": [
    "What You're Aiming For\n",
    "\n",
    "Create a calculator program that allows the user to perform mathematical operations on two numbers using basic functions and a dictionary to store the operations. The program should also have the ability to continue calculations with the result of previous calculations.\n",
    "\n",
    "\n",
    "Instructions\n",
    "\n",
    "Create four basic mathematical functions: 'add', 'subtract', 'multiply', and 'divide' that take in two numbers and return the result of the operation.\n",
    "Create a dictionary 'operations' that assigns the functions to their corresponding operation symbols.\n",
    "Create a function 'calculator' that prompts the user to input the first number.\n",
    "Use a for loop to print the available operation symbols.\n",
    "Create a while loop that will continue to run until the user chooses to end the current calculation.\n",
    "Inside the while loop, prompt the user to select an operation symbol.\n",
    "Prompt the user to input the second number.\n",
    "Use the dictionary to retrieve the function that corresponds to the selected operation symbol and store it in a variable 'calculation_function'\n",
    "Perform the calculation by calling the 'calculation_function' on the two input numbers and store the result in a variable 'answer'.\n",
    "Print the equation and the result of the calculation.\n",
    "Ask the user if they would like to continue using the result as the first number for further calculations.\n",
    "If the user chooses to continue, update the 'num1' variable to the value of 'answer'.\n",
    "If the user chooses to start a new calculation, set the 'should_continue' variable to false and call the 'calculator' function to start a new calculation.\n",
    "Note: Make sure to test the program with different inputs and operations to ensure that it is functioning properly."
   ]
  },
  {
   "cell_type": "code",
   "execution_count": null,
   "id": "331d7c30-89a6-4ceb-a9c1-69621087aee1",
   "metadata": {},
   "outputs": [],
   "source": [
    "def add(a, b):\n",
    "    return a + b\n",
    "\n",
    "def subtract(a, b):\n",
    "    return a - b\n",
    "\n",
    "def multiply(a, b):\n",
    "    return a * b\n",
    "\n",
    "def divide(a, b):\n",
    "    return a/b\n",
    "\n",
    "operations ={'+': add, '-': subtract, '*' : multiply, '/': divide}\n",
    "    \n",
    "\n",
    "def calculator():\n",
    "    first_no = float(input('Enter the first number: '))\n",
    "    print('Here are the list of symbols you can use for your calculation')\n",
    "    for key in operations.keys():\n",
    "        print(key)\n",
    "\n",
    "    while True:\n",
    "        symbol = input('Enter symbol here: ')\n",
    "        second_no = float(input('Enter second number: '))\n",
    "        \n",
    "        if symbol in operations:\n",
    "            calculation_function = operations[symbol]\n",
    "        else:\n",
    "            print('Invalid symbol')\n",
    "            continue\n",
    "\n",
    "        answer = calculation_function(first_no, second_no)\n",
    "        print(f'{first_no} {symbol} {second_no} = {answer}')\n",
    "\n",
    "        should_continued = input('Will you like to continue or quit the calculator(enter continue or quit): ')\n",
    "        if should_continued.lower() == 'continue':\n",
    "            should_continue = input('Will you like to continue with your answer as the first number? (Yes/No): ')\n",
    "            if should_continue.lower() == 'yes':\n",
    "                first_no = answer\n",
    "            elif should_continue.lower() == 'no':\n",
    "                first_no = float(input('Enter the new first number: '))\n",
    "            else:\n",
    "                print('Invalid input. Exiting the calculator.')\n",
    "                break\n",
    "        else:\n",
    "            print('Goodbye')\n",
    "            break"
   ]
  },
  {
   "cell_type": "code",
   "execution_count": null,
   "id": "c7ecc947-9c24-4f72-8023-41e1dc270cd4",
   "metadata": {},
   "outputs": [],
   "source": [
    "calculator()"
   ]
  }
 ],
 "metadata": {
  "kernelspec": {
   "display_name": "Python 3 (ipykernel)",
   "language": "python",
   "name": "python3"
  },
  "language_info": {
   "codemirror_mode": {
    "name": "ipython",
    "version": 3
   },
   "file_extension": ".py",
   "mimetype": "text/x-python",
   "name": "python",
   "nbconvert_exporter": "python",
   "pygments_lexer": "ipython3",
   "version": "3.12.7"
  }
 },
 "nbformat": 4,
 "nbformat_minor": 5
}
