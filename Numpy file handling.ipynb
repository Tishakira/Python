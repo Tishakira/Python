{
 "cells": [
  {
   "cell_type": "markdown",
   "id": "f52d07b2-fd26-4cfa-a7ae-a9bc854acf9a",
   "metadata": {},
   "source": [
    "This ➡️ dataset contains loan information, including loan ID, customer gender, location, region, total price for each loan etc.\n",
    "\n",
    "Begin by importing the necessary libraries, numpy.\n",
    "Use the open() function to open csv file and assign the result to a variable.\n",
    "Use the numpy array to perform some basic statistical analysis on the data, such as finding the mean, median, and standard deviation of the loan amounts.\n",
    "Note:\n",
    "\n",
    "Be sure to close the file after you have finished reading it in with the open() function.\n",
    "Use the delimiter parameter in the genfromtxt() function to specify that the values in the file are separated by commas.\n",
    "You can use the numpy functions mean(), median(), and std() to find the mean, median, and standard deviation of the loan amounts."
   ]
  },
  {
   "cell_type": "code",
   "execution_count": 1,
   "id": "5b753721-b1e0-449e-916f-e74b3e6008d7",
   "metadata": {},
   "outputs": [],
   "source": [
    "import numpy "
   ]
  },
  {
   "cell_type": "code",
   "execution_count": 2,
   "id": "95e06ffe-9338-4936-bdfa-b525f922d075",
   "metadata": {},
   "outputs": [],
   "source": [
    "filepath = r\"C:\\Users\\Special User\\Downloads\\Loan_prediction_dataset.csv\"\n",
    "file = open(filepath, 'r')"
   ]
  },
  {
   "cell_type": "code",
   "execution_count": 3,
   "id": "d06ecaa5-54db-4135-977c-fc6296a8a70f",
   "metadata": {},
   "outputs": [],
   "source": [
    "data = numpy.genfromtxt(file, delimiter=',')"
   ]
  },
  {
   "cell_type": "code",
   "execution_count": 4,
   "id": "9b19ae61-4d19-4eff-8d88-48e3ba18c4e4",
   "metadata": {},
   "outputs": [],
   "source": [
    "file.close()"
   ]
  },
  {
   "cell_type": "code",
   "execution_count": 5,
   "id": "ef5938da-15aa-4a1f-b222-788f85c94bc9",
   "metadata": {},
   "outputs": [
    {
     "name": "stdout",
     "output_type": "stream",
     "text": [
      "(615, 13)\n"
     ]
    }
   ],
   "source": [
    "print(data.shape)  # Check the dimensions of the dataset\n"
   ]
  },
  {
   "cell_type": "code",
   "execution_count": 6,
   "id": "ae4fae0b-e2b5-43f1-83b7-177c4f63698e",
   "metadata": {},
   "outputs": [
    {
     "data": {
      "text/plain": [
       "146.41216216216216"
      ]
     },
     "execution_count": 6,
     "metadata": {},
     "output_type": "execute_result"
    }
   ],
   "source": [
    "numpy.nanmean(data[:,8])"
   ]
  },
  {
   "cell_type": "code",
   "execution_count": 15,
   "id": "6e034a8a-b3ad-4026-85da-54b7032ac61e",
   "metadata": {},
   "outputs": [
    {
     "name": "stdout",
     "output_type": "stream",
     "text": [
      "[[      nan       nan       nan 0.000e+00       nan       nan 5.849e+03\n",
      "  0.000e+00       nan 3.600e+02 1.000e+00       nan       nan]\n",
      " [      nan       nan       nan 1.000e+00       nan       nan 4.583e+03\n",
      "  1.508e+03 1.280e+02 3.600e+02 1.000e+00       nan       nan]\n",
      " [      nan       nan       nan 0.000e+00       nan       nan 3.000e+03\n",
      "  0.000e+00 6.600e+01 3.600e+02 1.000e+00       nan       nan]\n",
      " [      nan       nan       nan 0.000e+00       nan       nan 2.583e+03\n",
      "  2.358e+03 1.200e+02 3.600e+02 1.000e+00       nan       nan]\n",
      " [      nan       nan       nan 0.000e+00       nan       nan 6.000e+03\n",
      "  0.000e+00 1.410e+02 3.600e+02 1.000e+00       nan       nan]]\n"
     ]
    }
   ],
   "source": [
    "print(data[:5, :]) "
   ]
  },
  {
   "cell_type": "code",
   "execution_count": 23,
   "id": "4a153f1f-0617-45f3-a44f-d0692b1dd50c",
   "metadata": {
    "scrolled": true
   },
   "outputs": [
    {
     "name": "stdout",
     "output_type": "stream",
     "text": [
      "[  0. 128.  66. 120. 141. 267.  95. 158. 168. 349.  70. 109. 200. 114.\n",
      "  17. 125. 100.  76. 133. 115. 104. 315. 116. 112. 151. 191. 122. 110.\n",
      "  35. 120. 201.  74. 106. 114. 320.   0. 100. 144. 184. 110.  80.  47.\n",
      "  75. 134.  96.  88.  44. 144. 120. 144. 100. 120. 112. 134. 286.  97.\n",
      "  96. 135. 180. 144. 120.  99. 165.   0. 116. 258. 126. 312. 125. 136.\n",
      " 172.  97.  81.  95. 187. 113. 176. 110. 180. 130. 111.   0. 167. 265.\n",
      "  50. 136.  99. 104. 210. 175. 131. 188.  81. 122.  25.   0. 137.  50.\n",
      " 115. 131. 133. 151.   0.   0. 160. 100. 225. 120. 216.  94. 136. 139.\n",
      " 152.   0. 118. 185. 154.  85. 175. 259. 180.  44. 137.  81. 194.  93.\n",
      " 370.   0. 160. 182. 650.  74.  70.  25. 102. 290.  84.  88. 242. 129.\n",
      " 185. 168. 175. 122. 187. 100.  70.  30. 225. 125. 118. 152. 244. 113.\n",
      "  50. 600. 160. 187. 120. 255.  98. 275. 121. 158.  75. 182. 112. 129.\n",
      "  63. 200.  95. 700.  81. 187.  87. 116. 101. 495. 116. 102. 180.  67.\n",
      "  73. 260. 108. 120.  66.  58. 168. 188.  48. 164. 160.  76. 120. 170.\n",
      " 187. 120. 113.  83.  90. 166.   0. 135. 124. 120.  80.  55.  59. 127.\n",
      " 214. 128. 240. 130. 137. 100. 135. 131.  72. 127.  60. 116. 144. 175.\n",
      " 128. 170. 138. 210. 158. 200. 104.  42. 120. 280. 140. 170. 255. 122.\n",
      " 112.  96. 120. 140. 155. 108. 123. 120. 112. 137. 123.  90. 201. 138.\n",
      " 104. 279. 192. 255. 115.  94. 304. 128. 330. 134. 155. 120. 128. 151.\n",
      " 150. 160. 135.  90.  30. 136. 126. 150.  90. 115. 207.  80. 436. 124.\n",
      " 158. 112.  78.  54.   0.  89.  99. 120. 115. 187. 139. 127. 134. 143.\n",
      " 172. 110. 200. 135. 151. 113.  93. 105. 132.  96. 140.   0. 135. 104.\n",
      " 480. 185.  84. 111.  56. 144. 159. 111. 120.  88. 112. 155. 115. 124.\n",
      "   0. 132. 300. 376. 130. 184. 110.  67. 117.  98.  71. 490. 182.  70.\n",
      " 160. 176.   0.  71. 173.  46. 158.  74. 125. 160. 152. 126. 259. 187.\n",
      " 228. 308.  95. 105. 130. 116. 165.  67. 100. 200.  81. 236. 130.  95.\n",
      " 141. 133.  96. 124. 175. 570.  55. 155. 380. 111. 110. 120. 130. 130.\n",
      "  71. 130. 128. 296. 156. 128. 100. 113. 132.   0. 136. 125. 185. 275.\n",
      " 120. 113. 113. 135.  71.  95. 109. 103.  45.  65. 103.  53. 194. 115.\n",
      " 115.  66. 152. 360.  62. 160. 218. 110. 178.  60. 160. 239. 112. 138.\n",
      " 138.  80. 100. 110.  96. 121.  81. 133.  87.  60. 150. 105. 405. 143.\n",
      " 100.   0.  50.   0. 187. 138. 187. 180. 148. 152. 175. 130. 110.  55.\n",
      " 150. 190. 125.  60. 149.  90.  84.  96. 118. 173. 136. 160. 160. 128.\n",
      " 153. 132.  98. 140.  70. 110.  98. 110. 162. 113. 100.  93. 162. 150.\n",
      " 230. 132.  86.   0. 154. 113. 128. 234. 246. 131.  80. 500. 160.  75.\n",
      "  96. 186. 110. 225. 119. 105. 107. 111.  95. 209. 113. 100. 208. 138.\n",
      " 124. 243. 480.  96. 188.  40. 100. 250. 148.  70. 311. 150. 113. 123.\n",
      " 185.  95.  45.  55. 100. 480.   0. 400. 110. 161.  94. 130. 216. 100.\n",
      " 110. 196. 125. 126. 324. 107.  66. 157. 140.  99.  95. 128. 102. 155.\n",
      "  80. 145. 103. 110.   0.   0. 158. 181. 132.  26.  84. 260. 162. 182.\n",
      " 108. 600. 211. 132. 258. 120.  70. 123.   9. 104. 186. 165. 275. 187.\n",
      " 150. 108. 136. 110. 107. 161. 205.  90.  36.  61. 146. 172. 104.  70.\n",
      "  94. 106.  56. 205. 292. 142. 260. 110. 187.  88. 180. 192. 350. 155.\n",
      " 128. 172. 496.   0. 173. 157. 108.  71.  40. 253. 187. 133.]\n"
     ]
    }
   ],
   "source": [
    "loan_amounts = data[:, 8]  # Replace with the correct column index\n",
    "print(loan_amounts) "
   ]
  },
  {
   "cell_type": "code",
   "execution_count": 7,
   "id": "ca13c3b4-c502-48a0-af7d-c87022fadd8b",
   "metadata": {},
   "outputs": [],
   "source": [
    "loan_amounts = data[:, 8]"
   ]
  },
  {
   "cell_type": "code",
   "execution_count": 9,
   "id": "7dc1741c-1de6-46cf-8fe2-439531f9d8d1",
   "metadata": {},
   "outputs": [],
   "source": [
    "mean = numpy.nanmean(loan_amounts)"
   ]
  },
  {
   "cell_type": "code",
   "execution_count": 11,
   "id": "672d3ec9-c2a7-4559-be63-fff3d646484a",
   "metadata": {},
   "outputs": [
    {
     "name": "stdout",
     "output_type": "stream",
     "text": [
      "Mean Loan Amount: 146.41216216216216\n",
      "Median Loan Amount: 128.0\n",
      "Standard Deviation of Loan Amounts: 85.51500809120331\n"
     ]
    }
   ],
   "source": [
    "mean = numpy.nanmean(loan_amounts)  # Mean, ignoring NaN\n",
    "median = numpy.nanmedian(loan_amounts)  # Median, ignoring NaN\n",
    "std_dev = numpy.nanstd(loan_amounts)\n",
    "\n",
    "print(f\"Mean Loan Amount: {mean}\")\n",
    "print(f\"Median Loan Amount: {median}\")\n",
    "print(f\"Standard Deviation of Loan Amounts: {std_dev}\")"
   ]
  },
  {
   "cell_type": "code",
   "execution_count": null,
   "id": "687cdcaa-ec99-4041-bb55-de1480d654b2",
   "metadata": {},
   "outputs": [],
   "source": []
  }
 ],
 "metadata": {
  "kernelspec": {
   "display_name": "Python 3 (ipykernel)",
   "language": "python",
   "name": "python3"
  },
  "language_info": {
   "codemirror_mode": {
    "name": "ipython",
    "version": 3
   },
   "file_extension": ".py",
   "mimetype": "text/x-python",
   "name": "python",
   "nbconvert_exporter": "python",
   "pygments_lexer": "ipython3",
   "version": "3.12.7"
  }
 },
 "nbformat": 4,
 "nbformat_minor": 5
}
