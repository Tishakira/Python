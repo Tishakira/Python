{
 "cells": [
  {
   "cell_type": "markdown",
   "id": "8d78522f-7319-4326-a537-d77848dee7e6",
   "metadata": {},
   "source": [
    "The objective  is to utilize the NumPy library to perform detailed analysis on a dataset of student grades. This includes calculating statistical measures, identifying trends, and extracting subsets of data to understand the performance and achievements of students within a specific grading scale.\n",
    "\n",
    "\n",
    "Instructions\n",
    "\n",
    "Create a numpy array called \"grades\" that contains the following grades: [85, 90, 88, 92, 95, 80, 75, 98, 89, 83]\n",
    "\n",
    "Import the numpy library and create the \"grades\" array as specified above.\n",
    "Use numpy functions to calculate the mean, median, and standard deviation of the grades.\n",
    "Use numpy function to find the maximum and minimum of the grades.\n",
    "Use numpy function to sort the grades in ascending order.\n",
    "Use numpy function to find the index of the highest grade in the array.\n",
    "Use numpy function to count the number of students who scored above 90.\n",
    "Use numpy function to calculate the percentage of students who scored above 90.\n",
    "Use numpy function to calculate the percentage of students who scored below 75.\n",
    "Use numpy function to extract all the grades above 90 and put them in a new array called \"high_performers\".\n",
    "Create a new array called \"passing_grades\" that contains all the grades above 75.\n",
    "Print the result of all the above steps.\n",
    "Note:\n",
    "\n",
    "to calculate percentage use numpy.mean(grades > 90) * 100\n",
    "to extract the grades above 90 use grades[grades > 90]\n",
    "to extract the grades above 75 use grades[grades > 75]"
   ]
  },
  {
   "cell_type": "code",
   "execution_count": 2,
   "id": "1e417d97-7d17-45da-8eb1-2fe442216f3b",
   "metadata": {},
   "outputs": [],
   "source": [
    "import numpy as np\n",
    "my_grades = [85, 90, 88, 92, 95, 80, 75, 98, 89, 83]"
   ]
  },
  {
   "cell_type": "code",
   "execution_count": 4,
   "id": "8058eea3-d0b8-4752-b5c8-7b7e10dfd10c",
   "metadata": {},
   "outputs": [
    {
     "data": {
      "text/plain": [
       "array([85, 90, 88, 92, 95, 80, 75, 98, 89, 83])"
      ]
     },
     "execution_count": 4,
     "metadata": {},
     "output_type": "execute_result"
    }
   ],
   "source": [
    "grades = np.array(my_grades)\n",
    "grades"
   ]
  },
  {
   "cell_type": "code",
   "execution_count": 6,
   "id": "e01fa293-1983-4680-8a2b-ebd85abc351c",
   "metadata": {},
   "outputs": [
    {
     "name": "stdout",
     "output_type": "stream",
     "text": [
      "Mean Grade: 87.5\n",
      "Median Grade: 88.5\n",
      "Standard Deviation: 6.591661399070799\n"
     ]
    }
   ],
   "source": [
    "#Use numpy functions to calculate the mean, median, and standard deviation of the grades.\n",
    "mean_grade = np.mean(grades)\n",
    "print(\"Mean Grade:\", mean_grade)\n",
    "\n",
    "median_grade = np.median(grades)\n",
    "print(\"Median Grade:\", median_grade)\n",
    "\n",
    "std_dev_grade = np.std(grades)\n",
    "print(\"Standard Deviation:\", std_dev_grade)"
   ]
  },
  {
   "cell_type": "code",
   "execution_count": 7,
   "id": "7feb428a-970a-4c55-8f5c-ab7c9e6b4c2c",
   "metadata": {},
   "outputs": [
    {
     "name": "stdout",
     "output_type": "stream",
     "text": [
      "Maximum Grade: 98\n",
      "Minimum Grade: 75\n"
     ]
    }
   ],
   "source": [
    "#Use numpy function to find the maximum and minimum of the grades.\n",
    "max_grade = np.max(grades)\n",
    "print(\"Maximum Grade:\", max_grade)\n",
    "\n",
    "min_grade = np.min(grades)\n",
    "print(\"Minimum Grade:\", min_grade)\n"
   ]
  },
  {
   "cell_type": "code",
   "execution_count": 8,
   "id": "b4171eaa-f0cf-4786-a8c4-0ab97ea6a960",
   "metadata": {},
   "outputs": [
    {
     "name": "stdout",
     "output_type": "stream",
     "text": [
      "Sorted Grades: [75 80 83 85 88 89 90 92 95 98]\n"
     ]
    }
   ],
   "source": [
    "#Use numpy function to sort the grades in ascending order.\n",
    "sorted_grades = np.sort(grades)\n",
    "print(\"Sorted Grades:\", sorted_grades)"
   ]
  },
  {
   "cell_type": "code",
   "execution_count": 9,
   "id": "b0a19b33-0f43-46e6-93c8-4fb66962d440",
   "metadata": {},
   "outputs": [
    {
     "name": "stdout",
     "output_type": "stream",
     "text": [
      "Index of Highest Grade: 7\n"
     ]
    }
   ],
   "source": [
    "#Use numpy function to find the index of the highest grade in the array.\n",
    "index_max_grade = np.argmax(grades)\n",
    "print(\"Index of Highest Grade:\", index_max_grade)"
   ]
  },
  {
   "cell_type": "code",
   "execution_count": 14,
   "id": "074682da-003a-4ab5-b45a-f4dae408522f",
   "metadata": {},
   "outputs": [
    {
     "name": "stdout",
     "output_type": "stream",
     "text": [
      "Number of Students Scoring Above 90: 3\n"
     ]
    }
   ],
   "source": [
    "#Use numpy function to count the number of students who scored above 90.\n",
    "count_above_90 = np.sum(grades > 90)\n",
    "print(\"Number of Students Scoring Above 90:\",count_above_90)"
   ]
  },
  {
   "cell_type": "code",
   "execution_count": 16,
   "id": "89656d57-2005-41ae-8842-faa363cb3fb7",
   "metadata": {},
   "outputs": [
    {
     "name": "stdout",
     "output_type": "stream",
     "text": [
      "Percentage of Students Scoring Above 90: 30.0\n"
     ]
    }
   ],
   "source": [
    "#Use numpy function to calculate the percentage of students who scored above 90.\n",
    "percentage_above_90 = (np.sum(grades > 90) / len(grades)) * 100\n",
    "print(\"Percentage of Students Scoring Above 90:\", percentage_above_90)\n"
   ]
  },
  {
   "cell_type": "code",
   "execution_count": 17,
   "id": "e7f91e0c-dfce-43b1-9166-46d741c6f201",
   "metadata": {},
   "outputs": [
    {
     "name": "stdout",
     "output_type": "stream",
     "text": [
      "Percentage of Students Scoring Below 75: 0.0\n"
     ]
    }
   ],
   "source": [
    "#Use numpy function to calculate the percentage of students who scored below 75.\n",
    "percentage_below_75 = (np.sum(grades < 75) / len(grades)) * 100\n",
    "print(\"Percentage of Students Scoring Below 75:\", percentage_below_75)\n"
   ]
  },
  {
   "cell_type": "code",
   "execution_count": 18,
   "id": "1f214375-b29e-4f7e-8e09-ed99355bdb6d",
   "metadata": {},
   "outputs": [
    {
     "name": "stdout",
     "output_type": "stream",
     "text": [
      "High Performers (Grades > 90): [92 95 98]\n"
     ]
    }
   ],
   "source": [
    "#high_performers = grades[grades > 90]\n",
    "high_performers = grades[grades > 90]\n",
    "print(\"High Performers (Grades > 90):\", high_performers)\n"
   ]
  },
  {
   "cell_type": "code",
   "execution_count": 19,
   "id": "d36e7123-b1f6-41f4-b773-c14c2c5f44cd",
   "metadata": {},
   "outputs": [
    {
     "name": "stdout",
     "output_type": "stream",
     "text": [
      "Passing Grades (Grades > 75): [85 90 88 92 95 80 98 89 83]\n"
     ]
    }
   ],
   "source": [
    "#Create a new array called \"passing_grades\" that contains all the grades above 75.\n",
    "passing_grades = grades[grades > 75]\n",
    "print(\"Passing Grades (Grades > 75):\", passing_grades)"
   ]
  },
  {
   "cell_type": "code",
   "execution_count": null,
   "id": "d20ca9c6-2ef1-4f86-9e77-92f5435efe84",
   "metadata": {},
   "outputs": [],
   "source": []
  }
 ],
 "metadata": {
  "kernelspec": {
   "display_name": "Python 3 (ipykernel)",
   "language": "python",
   "name": "python3"
  },
  "language_info": {
   "codemirror_mode": {
    "name": "ipython",
    "version": 3
   },
   "file_extension": ".py",
   "mimetype": "text/x-python",
   "name": "python",
   "nbconvert_exporter": "python",
   "pygments_lexer": "ipython3",
   "version": "3.12.7"
  }
 },
 "nbformat": 4,
 "nbformat_minor": 5
}
