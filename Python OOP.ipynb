{
 "cells": [
  {
   "cell_type": "markdown",
   "id": "436c3499-cb43-4144-ac93-5a0601b43bd8",
   "metadata": {},
   "source": [
    "The objective is to create a Python class named \"Account\" with methods for depositing, withdrawing, and checking balances, encapsulated in a script called \"bank_account.py\" to simulate basic bank account operations.\n",
    "\n",
    " \n",
    "\n",
    "Create a class called \"Account\" that has the following attributes:\n",
    "\n",
    "account_number (string)\n",
    "account_balance (float)\n",
    "account_holder (string)\n",
    "The class should have the following methods:\n",
    "\n",
    "deposit(amount: float) - This method should add the amount passed as an argument to the account balance.\n",
    "withdraw(amount: float) - This method should subtract the amount passed as an argument from the account balance, but only if the account balance is greater than the amount being withdrawn.\n",
    "check_balance() - This method should return the current account balance.\n",
    "\n",
    "Instructions\n",
    "\n",
    " \n",
    "\n",
    "Define the Account class and its attributes as specified above.\n",
    "Define the deposit() method. It should take in one argument, the amount to be deposited, and add it to the account balance.\n",
    "Define the withdraw() method. It should take in one argument, the amount to be withdrawn, and subtract it from the account balance. The method should only execute the withdrawal if the account balance is greater than or equal to the amount to be withdrawn.\n",
    "Define the check_balance() method. It should return the current account balance.\n",
    "Create an instance of the Account class, and assign it to a variable called \"my_account\".\n",
    "Use the methods of the class to deposit and withdraw money from the account, and check the account balance.\n",
    "Test the program by creating multiple instances of the class and performing different transactions on them."
   ]
  },
  {
   "cell_type": "code",
   "execution_count": 5,
   "id": "159a1449-e018-49c9-94d7-a2dc11b2450c",
   "metadata": {},
   "outputs": [
    {
     "name": "stdout",
     "output_type": "stream",
     "text": [
      "20 has been added to your account\n",
      "80 has been deducted from account\n",
      " Your account balance is 40.0\n"
     ]
    }
   ],
   "source": [
    "class Account:\n",
    "    def __init__(self, account_number:str, account_holder:str, account_balance = 100.00):\n",
    "        self.account_number = account_number\n",
    "        self.account_balance = account_balance\n",
    "        self.account_holder = account_holder\n",
    "\n",
    "    def deposit(self, amount:float):\n",
    "        if amount > 0:\n",
    "            self.account_balance += amount\n",
    "            print(f'{amount} has been added to your account')\n",
    "        else:\n",
    "            print('amount must be positive')\n",
    "    def withdraw(self, amount:float):\n",
    "        if amount <= self.account_balance:\n",
    "            self.account_balance -= amount\n",
    "            print(f'{amount} has been deducted from account')\n",
    "        else:\n",
    "            print('You do not have sufficient funds for this transaction')\n",
    "\n",
    "    def check_balance(self):\n",
    "        print(f' Your account balance is {self.account_balance}')\n",
    "\n",
    "\n",
    "my_account = Account('0429031972', 'Bolu Williams')\n",
    "my_account.deposit(20)\n",
    "my_account.withdraw(80)\n",
    "my_account.check_balance()\n",
    "\n",
    "    \n"
   ]
  },
  {
   "cell_type": "code",
   "execution_count": null,
   "id": "aa635534-d4ba-4d85-b734-98c7af4bd9dd",
   "metadata": {},
   "outputs": [],
   "source": []
  }
 ],
 "metadata": {
  "kernelspec": {
   "display_name": "Python 3 (ipykernel)",
   "language": "python",
   "name": "python3"
  },
  "language_info": {
   "codemirror_mode": {
    "name": "ipython",
    "version": 3
   },
   "file_extension": ".py",
   "mimetype": "text/x-python",
   "name": "python",
   "nbconvert_exporter": "python",
   "pygments_lexer": "ipython3",
   "version": "3.12.7"
  }
 },
 "nbformat": 4,
 "nbformat_minor": 5
}
