{
 "cells": [
  {
   "cell_type": "markdown",
   "id": "41524938-9cb2-4801-8119-d8e46b11bc93",
   "metadata": {},
   "source": [
    "In this exercise, you will expand on the basic calculator program by adding more advanced mathematical operations and error handling using object-oriented programming.\n",
    "\n",
    "\n",
    "Instructions\n",
    "\n",
    " \n",
    "\n",
    "Create a class called \"Calculator\" that contains the following:\n",
    "A dictionary attribute to store the available mathematical operations and their corresponding functions\n",
    "A method called \"init\" that initializes the dictionary with the basic mathematical operations (+, -, *, /) and corresponding functions\n",
    "A method called \"add_operation\" that takes in two arguments: the operation symbol and the corresponding function. This method should add the new operation and function to the dictionary.\n",
    "A method called \"calculate\" that takes in three arguments: the first number, the operation symbol, and the second number. This method should use the dictionary to determine the appropriate function to perform the calculation. It should also include error handling to check if the operation symbol is valid and if the input values are numbers. If an error is encountered, the method should print an error message and raise an exception.\n",
    "Create separate functions for the advanced mathematical operations (exponentiation, square root, logarithm) and use the \"add_operation\" method to add them to the calculator's dictionary.\n",
    "In the main program, create an instance of the Calculator class, and use a while loop that allows the user to continue performing calculations until they choose to exit.\n",
    "Use the input() function to get input from the user for the numbers and operation symbol.Use the math library for advanced mathematical operations\n",
    "Use the isinstance() function to check if the input is a number."
   ]
  },
  {
   "cell_type": "code",
   "execution_count": null,
   "id": "032fc02a-17e9-4f04-a4a3-e5833c998389",
   "metadata": {},
   "outputs": [
    {
     "name": "stdout",
     "output_type": "stream",
     "text": [
      "Welcome to the Calculator program!\n"
     ]
    },
    {
     "name": "stdin",
     "output_type": "stream",
     "text": [
      "Enter calculation (e.g., 2 + 2 or sqrt 4):  2 + 4\n"
     ]
    },
    {
     "name": "stdout",
     "output_type": "stream",
     "text": [
      "Result: 6.0\n"
     ]
    }
   ],
   "source": [
    "import math\n",
    "\n",
    "class Calculator:\n",
    "    def __init__(self):\n",
    "        self.operations = {'+': self.add, '-': self.subtract, '*': self.multiply, '/': self.divide}\n",
    "\n",
    "    def add(self, a, b):\n",
    "        return a + b\n",
    "\n",
    "    def subtract(self, a, b):\n",
    "        return a - b\n",
    "\n",
    "    def multiply(self, a, b):\n",
    "        return a * b\n",
    "\n",
    "    def divide(self, a, b):\n",
    "        if b == 0:\n",
    "            raise ValueError(\"Division by zero is not allowed.\")\n",
    "        return a / b\n",
    "\n",
    "    def add_operation(self, symbol, function):\n",
    "        self.operations[symbol] = function\n",
    "\n",
    "    def calculate(self, a, operator, b=None):\n",
    "        try:\n",
    "            if not isinstance(a, (int, float)) or (b is not None and not isinstance(b, (int, float))):\n",
    "                raise TypeError(\"Inputs must be numbers.\")\n",
    "\n",
    "            if operator not in self.operations:\n",
    "                raise ValueError(f\"Operation '{operator}' is not supported.\")\n",
    "\n",
    "            if b is None:\n",
    "                return self.operations[operator](a)\n",
    "            else:\n",
    "                return self.operations[operator](a, b)\n",
    "        except Exception as e:\n",
    "            print(f\"Error: {e}\")\n",
    "            raise\n",
    "\n",
    "def exponentiation(x, y):\n",
    "    return x ** y\n",
    "\n",
    "def square_root(x):\n",
    "    if x < 0:\n",
    "        raise ValueError(\"Square root of negative number is not allowed.\")\n",
    "    return math.sqrt(x)\n",
    "\n",
    "def logarithm(x):\n",
    "    if x <= 0:\n",
    "        raise ValueError(\"Logarithm of non-positive number is not allowed.\")\n",
    "    return math.log(x)\n",
    "\n",
    "def main():\n",
    "    adv = Calculator()\n",
    "\n",
    "    \n",
    "    adv.add_operation('^', exponentiation)\n",
    "    adv.add_operation('sqrt', square_root)\n",
    "    adv.add_operation('log', logarithm)\n",
    "\n",
    "    print(\"Welcome to the Calculator program!\")\n",
    "    \n",
    "    while True:\n",
    "        try:\n",
    "            user_input = input(\"Enter calculation (e.g., 2 + 2 or sqrt 4): \").strip()\n",
    "            if user_input.lower() == 'exit':\n",
    "                print(\"Goodbye!\")\n",
    "                break\n",
    "\n",
    "            tokens = user_input.split()\n",
    "            if len(tokens) == 2:  \n",
    "                operation, a = tokens[0], float(tokens[1])\n",
    "                result = adv.calculate(a, operation)\n",
    "            elif len(tokens) == 3:  \n",
    "                a, operation, b = float(tokens[0]), tokens[1], float(tokens[2])\n",
    "                result = adv.calculate(a, operation, b)\n",
    "            else:\n",
    "                print(\"Invalid input format. Try again.\")\n",
    "                continue\n",
    "\n",
    "            print(f\"Result: {result}\")\n",
    "        except Exception as e:\n",
    "            print(f\"Error: {e}\")\n",
    "\n",
    "if __name__ == \"__main__\":\n",
    "    main()\n"
   ]
  },
  {
   "cell_type": "code",
   "execution_count": null,
   "id": "4666d4d1-c887-4c13-b645-e0bba943cb44",
   "metadata": {},
   "outputs": [],
   "source": []
  }
 ],
 "metadata": {
  "kernelspec": {
   "display_name": "Python 3 (ipykernel)",
   "language": "python",
   "name": "python3"
  },
  "language_info": {
   "codemirror_mode": {
    "name": "ipython",
    "version": 3
   },
   "file_extension": ".py",
   "mimetype": "text/x-python",
   "name": "python",
   "nbconvert_exporter": "python",
   "pygments_lexer": "ipython3",
   "version": "3.12.7"
  }
 },
 "nbformat": 4,
 "nbformat_minor": 5
}
